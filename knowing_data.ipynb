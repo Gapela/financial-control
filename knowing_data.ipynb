{
 "cells": [
  {
   "cell_type": "code",
   "execution_count": 1,
   "id": "8e4718ee",
   "metadata": {},
   "outputs": [],
   "source": [
    "import pandas as pd\n",
    "import numpy as np"
   ]
  },
  {
   "cell_type": "code",
   "execution_count": 2,
   "id": "39452d42",
   "metadata": {},
   "outputs": [],
   "source": [
    "# IMPORTING DATA\n",
    "path_data = \"input\\\\2023-10.csv\"\n",
    "\n",
    "# SET SEED FOR REPRODUCIBILITY\n",
    "np.random.seed(0)"
   ]
  },
  {
   "cell_type": "code",
   "execution_count": 3,
   "id": "2c872640",
   "metadata": {},
   "outputs": [
    {
     "data": {
      "text/html": [
       "<div>\n",
       "<style scoped>\n",
       "    .dataframe tbody tr th:only-of-type {\n",
       "        vertical-align: middle;\n",
       "    }\n",
       "\n",
       "    .dataframe tbody tr th {\n",
       "        vertical-align: top;\n",
       "    }\n",
       "\n",
       "    .dataframe thead th {\n",
       "        text-align: right;\n",
       "    }\n",
       "</style>\n",
       "<table border=\"1\" class=\"dataframe\">\n",
       "  <thead>\n",
       "    <tr style=\"text-align: right;\">\n",
       "      <th></th>\n",
       "      <th>Data</th>\n",
       "      <th>Valor</th>\n",
       "      <th>Identificador</th>\n",
       "      <th>Descrição</th>\n",
       "    </tr>\n",
       "  </thead>\n",
       "  <tbody>\n",
       "    <tr>\n",
       "      <th>0</th>\n",
       "      <td>04/10/2023</td>\n",
       "      <td>60.00</td>\n",
       "      <td>651d8d1e-4d03-404b-826b-c372aaa0b10f</td>\n",
       "      <td>Transferência Recebida - Thaissa Ferreira Bran...</td>\n",
       "    </tr>\n",
       "    <tr>\n",
       "      <th>1</th>\n",
       "      <td>06/10/2023</td>\n",
       "      <td>-406.36</td>\n",
       "      <td>65200dda-4332-4ed1-9ad6-784040e98030</td>\n",
       "      <td>Transferência enviada pelo Pix - UNIVERSIDADE ...</td>\n",
       "    </tr>\n",
       "    <tr>\n",
       "      <th>2</th>\n",
       "      <td>06/10/2023</td>\n",
       "      <td>700.00</td>\n",
       "      <td>6520884f-05bd-482d-9e17-cf68d8522fce</td>\n",
       "      <td>Transferência recebida pelo Pix - MARCELO PELA...</td>\n",
       "    </tr>\n",
       "    <tr>\n",
       "      <th>3</th>\n",
       "      <td>10/10/2023</td>\n",
       "      <td>-783.07</td>\n",
       "      <td>652544d7-ca24-4af5-8c68-bee9a71e31ed</td>\n",
       "      <td>Transferência enviada pelo Pix - LEROY MERLIN ...</td>\n",
       "    </tr>\n",
       "    <tr>\n",
       "      <th>4</th>\n",
       "      <td>16/10/2023</td>\n",
       "      <td>-300.00</td>\n",
       "      <td>652d2945-ff9f-40b2-ab1d-9137127f9642</td>\n",
       "      <td>Transferência enviada pelo Pix - GABRIEL RODRI...</td>\n",
       "    </tr>\n",
       "  </tbody>\n",
       "</table>\n",
       "</div>"
      ],
      "text/plain": [
       "         Data   Valor                         Identificador  \\\n",
       "0  04/10/2023   60.00  651d8d1e-4d03-404b-826b-c372aaa0b10f   \n",
       "1  06/10/2023 -406.36  65200dda-4332-4ed1-9ad6-784040e98030   \n",
       "2  06/10/2023  700.00  6520884f-05bd-482d-9e17-cf68d8522fce   \n",
       "3  10/10/2023 -783.07  652544d7-ca24-4af5-8c68-bee9a71e31ed   \n",
       "4  16/10/2023 -300.00  652d2945-ff9f-40b2-ab1d-9137127f9642   \n",
       "\n",
       "                                           Descrição  \n",
       "0  Transferência Recebida - Thaissa Ferreira Bran...  \n",
       "1  Transferência enviada pelo Pix - UNIVERSIDADE ...  \n",
       "2  Transferência recebida pelo Pix - MARCELO PELA...  \n",
       "3  Transferência enviada pelo Pix - LEROY MERLIN ...  \n",
       "4  Transferência enviada pelo Pix - GABRIEL RODRI...  "
      ]
     },
     "execution_count": 3,
     "metadata": {},
     "output_type": "execute_result"
    }
   ],
   "source": [
    "# DATA VISUALIZATION\n",
    "data = pd.read_csv(path_data)\n",
    "data.head()"
   ]
  },
  {
   "cell_type": "code",
   "execution_count": 4,
   "id": "3aaa37ce",
   "metadata": {},
   "outputs": [
    {
     "data": {
      "text/plain": [
       "Data             0\n",
       "Valor            0\n",
       "Identificador    0\n",
       "Descrição        0\n",
       "dtype: int64"
      ]
     },
     "execution_count": 4,
     "metadata": {},
     "output_type": "execute_result"
    }
   ],
   "source": [
    "# KNOWING THE DATA\n",
    "missing_values_count = data.isnull().sum()\n",
    "missing_values_count"
   ]
  },
  {
   "cell_type": "code",
   "execution_count": 5,
   "id": "6cd65d6d",
   "metadata": {},
   "outputs": [
    {
     "name": "stdout",
     "output_type": "stream",
     "text": [
      "Missing: 0.0%\n"
     ]
    }
   ],
   "source": [
    "total_cells = np.prod(data.shape)\n",
    "total_missing = missing_values_count.sum()\n",
    "missing_percent = (total_missing/total_cells) * 100\n",
    "print(f\"Missing: {missing_percent}%\")"
   ]
  },
  {
   "cell_type": "code",
   "execution_count": null,
   "id": "8991041b",
   "metadata": {},
   "outputs": [],
   "source": []
  }
 ],
 "metadata": {
  "kernelspec": {
   "display_name": ".env",
   "language": "python",
   "name": "python3"
  },
  "language_info": {
   "codemirror_mode": {
    "name": "ipython",
    "version": 3
   },
   "file_extension": ".py",
   "mimetype": "text/x-python",
   "name": "python",
   "nbconvert_exporter": "python",
   "pygments_lexer": "ipython3",
   "version": "3.12.7"
  }
 },
 "nbformat": 4,
 "nbformat_minor": 5
}
